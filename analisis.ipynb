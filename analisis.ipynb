{
 "cells": [
  {
   "cell_type": "code",
   "execution_count": 1,
   "id": "e4313b88",
   "metadata": {},
   "outputs": [
    {
     "name": "stdout",
     "output_type": "stream",
     "text": [
      "Test rows: 200\n",
      "Train rows: 769\n",
      "Overlapping rows found: 12\n",
      "\n",
      "Sample overlaps:\n",
      " id_test                                                                                         video  id_train emotion_clean\n",
      "      59            https://drive.google.com/file/d/1UI8IJ19DQkZuTaUtLVtAI19jGMIDJuO_/view?usp=sharing     240.0      Surprise\n",
      "      61         https://drive.google.com/file/d/1c_1boySTaI5v-wbdEknkClIcsC7emkyC/view?usp=share_link     260.0      Surprise\n",
      "     108            https://drive.google.com/file/d/1PMDBY0C5oekMhFDm2KcR2jLjdgonZ2Bi/view?usp=sharing     438.0         Proud\n",
      "     109            https://drive.google.com/file/d/1ElvqnnKfMLU8pZyKKs_CMxwGts2O770v/view?usp=sharing     456.0      Surprise\n",
      "     116 https://www.instagram.com/reel/DMh3m5rvW3x/?utm_source=ig_web_copy_link&igsh=MzRlODBiNWFlZA==     496.0      Surprise\n"
     ]
    }
   ],
   "source": [
    "# Analysis: find overlapping video URLs between test and train clean files\n",
    "import pandas as pd\n",
    "from urllib.parse import urlparse, parse_qsl, urlunparse\n",
    "\n",
    "\n",
    "def normalize_url(u: str) -> str:\n",
    "    if pd.isna(u):\n",
    "        return ''\n",
    "    s = str(u).strip()\n",
    "    # remove common tracking/query params by parsing\n",
    "    try:\n",
    "        p = urlparse(s)\n",
    "        # keep path and netloc, drop query but keep fragment if small\n",
    "        cleaned = urlunparse((p.scheme, p.netloc, p.path, '', '', ''))\n",
    "        return cleaned.lower().rstrip('/')\n",
    "    except Exception:\n",
    "        return s.lower().rstrip('/')\n",
    "\n",
    "# paths\n",
    "train_path = 'data/datatrain_clean.csv'\n",
    "test_path = 'data/datatest.csv'\n",
    "out_overlap = 'data/overlap_test_vs_train.csv'\n",
    "\n",
    "# read\n",
    "train = pd.read_csv(train_path)\n",
    "test = pd.read_csv(test_path)\n",
    "\n",
    "# normalize\n",
    "train['video_norm'] = train['video'].apply(normalize_url)\n",
    "test['video_norm'] = test['video'].apply(normalize_url)\n",
    "\n",
    "# find overlap\n",
    "merged = test.merge(train[['video_norm', 'id', 'emotion_clean']], on='video_norm', how='left', suffixes=('_test', '_train'))\n",
    "overlap = merged[~merged['emotion_clean'].isna()].copy()\n",
    "\n",
    "# save\n",
    "overlap.to_csv(out_overlap, index=False)\n",
    "\n",
    "# summary\n",
    "print('Test rows:', len(test))\n",
    "print('Train rows:', len(train))\n",
    "print('Overlapping rows found:', len(overlap))\n",
    "\n",
    "if len(overlap) > 0:\n",
    "    print('\\nSample overlaps:')\n",
    "    print(overlap[['id_test','video','id_train','emotion_clean']].head().to_string(index=False))\n",
    "else:\n",
    "    print('No overlap found')\n"
   ]
  }
 ],
 "metadata": {
  "kernelspec": {
   "display_name": "tf2-directml",
   "language": "python",
   "name": "python3"
  },
  "language_info": {
   "codemirror_mode": {
    "name": "ipython",
    "version": 3
   },
   "file_extension": ".py",
   "mimetype": "text/x-python",
   "name": "python",
   "nbconvert_exporter": "python",
   "pygments_lexer": "ipython3",
   "version": "3.9.19"
  }
 },
 "nbformat": 4,
 "nbformat_minor": 5
}
