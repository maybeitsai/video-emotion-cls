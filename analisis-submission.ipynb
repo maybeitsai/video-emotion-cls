{
 "cells": [
  {
   "cell_type": "markdown",
   "id": "045b82d1",
   "metadata": {},
   "source": [
    "# **Submission 1**\n",
    "\n",
    "**Team Ihre einzige grenze ist ihr verstand**"
   ]
  },
  {
   "cell_type": "markdown",
   "id": "1e56fb41",
   "metadata": {},
   "source": [
    "## 🔹 1. Load Dataset & Mapping Label"
   ]
  },
  {
   "cell_type": "code",
   "execution_count": 1,
   "id": "b9de170b",
   "metadata": {},
   "outputs": [
    {
     "data": {
      "application/vnd.microsoft.datawrangler.viewer.v0+json": {
       "columns": [
        {
         "name": "index",
         "rawType": "int64",
         "type": "integer"
        },
        {
         "name": "id",
         "rawType": "int64",
         "type": "integer"
        },
        {
         "name": "predicted",
         "rawType": "int64",
         "type": "integer"
        },
        {
         "name": "predicted_label",
         "rawType": "object",
         "type": "string"
        }
       ],
       "ref": "07c1b0f0-2ed6-4d68-8262-1c6415d8bae5",
       "rows": [
        [
         "0",
         "1",
         "3",
         "Surprise"
        ],
        [
         "1",
         "2",
         "3",
         "Surprise"
        ],
        [
         "2",
         "3",
         "3",
         "Surprise"
        ],
        [
         "3",
         "4",
         "3",
         "Surprise"
        ],
        [
         "4",
         "5",
         "3",
         "Surprise"
        ]
       ],
       "shape": {
        "columns": 3,
        "rows": 5
       }
      },
      "text/html": [
       "<div>\n",
       "<style scoped>\n",
       "    .dataframe tbody tr th:only-of-type {\n",
       "        vertical-align: middle;\n",
       "    }\n",
       "\n",
       "    .dataframe tbody tr th {\n",
       "        vertical-align: top;\n",
       "    }\n",
       "\n",
       "    .dataframe thead th {\n",
       "        text-align: right;\n",
       "    }\n",
       "</style>\n",
       "<table border=\"1\" class=\"dataframe\">\n",
       "  <thead>\n",
       "    <tr style=\"text-align: right;\">\n",
       "      <th></th>\n",
       "      <th>id</th>\n",
       "      <th>predicted</th>\n",
       "      <th>predicted_label</th>\n",
       "    </tr>\n",
       "  </thead>\n",
       "  <tbody>\n",
       "    <tr>\n",
       "      <th>0</th>\n",
       "      <td>1</td>\n",
       "      <td>3</td>\n",
       "      <td>Surprise</td>\n",
       "    </tr>\n",
       "    <tr>\n",
       "      <th>1</th>\n",
       "      <td>2</td>\n",
       "      <td>3</td>\n",
       "      <td>Surprise</td>\n",
       "    </tr>\n",
       "    <tr>\n",
       "      <th>2</th>\n",
       "      <td>3</td>\n",
       "      <td>3</td>\n",
       "      <td>Surprise</td>\n",
       "    </tr>\n",
       "    <tr>\n",
       "      <th>3</th>\n",
       "      <td>4</td>\n",
       "      <td>3</td>\n",
       "      <td>Surprise</td>\n",
       "    </tr>\n",
       "    <tr>\n",
       "      <th>4</th>\n",
       "      <td>5</td>\n",
       "      <td>3</td>\n",
       "      <td>Surprise</td>\n",
       "    </tr>\n",
       "  </tbody>\n",
       "</table>\n",
       "</div>"
      ],
      "text/plain": [
       "   id  predicted predicted_label\n",
       "0   1          3        Surprise\n",
       "1   2          3        Surprise\n",
       "2   3          3        Surprise\n",
       "3   4          3        Surprise\n",
       "4   5          3        Surprise"
      ]
     },
     "execution_count": 1,
     "metadata": {},
     "output_type": "execute_result"
    }
   ],
   "source": [
    "import pandas as pd\n",
    "\n",
    "# Load dataset\n",
    "submission = pd.read_csv(\"data/submission_2.csv\")  # id, predicted\n",
    "ground_truth = pd.read_csv(\"data/pred_datatest.csv\")  # id, text, label\n",
    "\n",
    "# Mapping angka ke label\n",
    "label_map = {\n",
    "    0: \"Proud\",\n",
    "    1: \"Trust\",\n",
    "    2: \"Joy\",\n",
    "    3: \"Surprise\",\n",
    "    4: \"Neutral\",\n",
    "    5: \"Sadness\",\n",
    "    6: \"Fear\",\n",
    "    7: \"Anger\",\n",
    "}\n",
    "\n",
    "# Tambahkan kolom label teks pada submission\n",
    "submission[\"predicted_label\"] = submission[\"predicted\"].map(label_map)\n",
    "\n",
    "submission.head()"
   ]
  },
  {
   "cell_type": "markdown",
   "id": "2a6a1803",
   "metadata": {},
   "source": [
    "## 🔹 2. Analisis Distribusi Prediksi"
   ]
  },
  {
   "cell_type": "code",
   "execution_count": 2,
   "id": "96712a8d",
   "metadata": {},
   "outputs": [
    {
     "name": "stdout",
     "output_type": "stream",
     "text": [
      "Distribusi Prediksi:\n",
      "predicted_label\n",
      "Surprise    104\n",
      "Trust        48\n",
      "Proud        27\n",
      "Joy          14\n",
      "Anger         4\n",
      "Sadness       3\n",
      "Name: count, dtype: int64\n"
     ]
    },
    {
     "data": {
      "image/png": "[encoded data removed]",
      "text/plain": [
       "<Figure size 800x400 with 1 Axes>"
      ]
     },
     "metadata": {},
     "output_type": "display_data"
    }
   ],
   "source": [
    "import matplotlib.pyplot as plt\n",
    "\n",
    "# Distribusi prediksi\n",
    "dist_pred = submission[\"predicted_label\"].value_counts()\n",
    "\n",
    "print(\"Distribusi Prediksi:\")\n",
    "print(dist_pred)\n",
    "\n",
    "# Visualisasi\n",
    "dist_pred.plot(kind=\"bar\", figsize=(8,4), title=\"Distribusi Prediksi Model\")\n",
    "plt.ylabel(\"Jumlah\")\n",
    "plt.show()"
   ]
  },
  {
   "cell_type": "markdown",
   "id": "8788c193",
   "metadata": {},
   "source": [
    "## 🔹 3. Gabungkan dengan Ground Truth"
   ]
  },
  {
   "cell_type": "code",
   "execution_count": 3,
   "id": "24c6f4b0",
   "metadata": {},
   "outputs": [
    {
     "data": {
      "application/vnd.microsoft.datawrangler.viewer.v0+json": {
       "columns": [
        {
         "name": "index",
         "rawType": "int64",
         "type": "integer"
        },
        {
         "name": "id",
         "rawType": "int64",
         "type": "integer"
        },
        {
         "name": "text",
         "rawType": "object",
         "type": "string"
        },
        {
         "name": "label",
         "rawType": "object",
         "type": "string"
        },
        {
         "name": "predicted_label",
         "rawType": "object",
         "type": "string"
        }
       ],
       "ref": "4af416e4-0a8e-43e8-9916-f7afe025783d",
       "rows": [
        [
         "0",
         "1",
         "kali ini ya di sebelah saya sudah ada baik BG40 yang akan kita gunakan buat road party jadi dari depan kalau kita lihat, bumpernya sudah berubah total karena dia menggunakan bumper dari forest ya dimana katanya untuk baik BG40 ini adalah yang pertama di Indonesia dia ini fabrikasi, jadi bukan kasteman kalau kita lihat memang rapi sekali dan sengaja dikasih kaya spes ya kalau nanti nanti kena sesuatu benturan dia nggak langsung kena ke grill atau ke kaca depannya, lampunya sedangkan disini ada sedikit tonggolan karena disini buat ditaruh lampu ada lampu di dalam sini sama lampu fog lamp tapi inget tampu lampu kayak gini cuma dipake pas off road aja nggak usah dipake di dalam kota",
         "Proud",
         "Joy"
        ],
        [
         "1",
         "2",
         "di gias ada Honda Civic ya sudah dimodifikasi full carbon jadi meskipun ya kelihatan carbon yang cuma di kap mesin terus di pintu ya, tapi sebenarnya dari bagian sini sampai sini sampai flornya itu udah dijadiin carbon semua nggak cuma itu mesinnya ini langsung dari Jun Jeppak nah kalian bisa lihat mobil ini ada dibutnya BRQ dan pertanyaannya BRQ itu apa sih? BRQ itu adalah fuel katalis ya dimana bisa bekerja di mobil Benzin atau di mobil Diesel fungsinya, dia itu memperbaiki kuatasi bahan bakar dan dia bisa memperpahagiang usia bahan bakar biar nggak cepet basi cocok buat, kalau kalian punya mobil hobby jarang dipake, BR fuel tetap bagus, pakai BRQ gua udah buktikan di semua mobil gue yang Benzin maupun diesel itu semua pakai BRQ dimana karena fuel yang makin bagus karena pakai BRQ lebih irit, lebih bertenaga dan terus aja emisinya juga lebih rendah dan di sini promo nya gede banget nah lihat nih, ada hargan normal dan ada harga Gias nah yang paling asik kalau menurut gua ada promo Maxlight ya dari 3.9 jadi 2.8 juta rupiah aja makanya burung langsung ke Gias sekarang buat dapetin promo nya dan buat temen-temen yang pengen dapetin promo nya tapi nggak ke Gias bisa langsung dari Instagramnya BRQ aja karena promo C ini cuma berlaku sepanjang Gias berlangsung nah buat yang pengen langsung dateng, langsung aja kebudnya BRQ yang ada di hot 11C C16 langsung kita sesini, yuk!",
         "Proud",
         "Surprise"
        ],
        [
         "2",
         "3",
         "jadi kita udah nyampe di nama tempatnya itu Gua Musang dan kita mampir solat di sebuah mesjid yang mirip banget kayak masjidil Harom iya, bahkan di dalam kita bisa tauwaf karena ada kabah buat manasik haji btw, ngomongin lagi overland kita tuh lagi overland gini tuh perlengkapan tuh harus bener-bener siap misalkan kita tambah di damper depan kita ada sun ladder, ada cangkul kalo misalkan mau beritanya koto semacamnya dan ngomong-ngomong soal keamanan gitu ya gak cuma buat komputer doang, tapi buat orangnya juga nah, kita selalu sedia entrostop untuk emergenci kalo ada kejutan di arei dan yang hebatnya dari entrostop ini, dia bisa entrostop di arei karena serap racun dan bakteri nah, dikeluarin semuanya baru di-stop di areinya biar diareinya beneran stop jadi kita gak perlu khawatir kalo misalkan kita salah makan atau mungkin makan makanan yang gak cocok sama perut kita karena nama juga di luar negeri ya jadi kemanapun ada pergi selalu bawa entrostop",
         "Neutral",
         "Neutral"
        ],
        [
         "3",
         "4",
         "ini ada tempat yang bisa membuka kazana kok kasana nih, pasannya jadi pokoknya lo ikutin aja kemana lah sebelum kita finish ini dia apa tempatnya pak? super spring balik papan super spring balik papan keren lah yang mendukung selama perjalanan kita pak iya iya iya yang memudahkan isteri kita dan periksa kita yang lagi ada di mana nah ini dia kantornya SSJ Balik Papan super spring GPSID ini, ini, ini model kani yang kita pakai tuh kemi X40 dia gak cuma sekedar GPS tracker tapi juga jadis kemi nya sama driver monitoring jadi bisa kecek kalau manto iya itu dia ingin tim mulut tuh main HP, meleng, hati-hati bisa, portable juga ada dan ini punya magnet kuat banget buat kalian, terutama gue juga ada jari segobranya dulu kan buat showroom nah penting banget showroom mobil itu pasang GPS begini jadi kalau misalkan nanti mobil dilakuk dan jemput dia mana balik banget ya mobil iya jadi kalau dia dilepas sensor yang nanti ada cahaya disini oh langsung ngirim sih nya langsung ngirim sih nya, ngasih tau warning oh iya, dilepas nih GPS nya ada niat buruk nih kalau penasaran langsung aja cek website dan aplikasinya GPS.ID nanti kalian bisa ada demo nya tuh gimana sih rasanya pakai tracker di mobil kita iya kita sama aja juga di tempat minis 360 pak 360 jadi buat temen-temen ini terima kasih telah ikutin video ini sampai akhir, sampai jumpa di max destination kita klikin ACN sub indo by broth3rmax",
         "Neutral",
         "Surprise"
        ],
        [
         "4",
         "5",
         "Unboxing give box HP 3 juta yang banyak gaya. Kotaknya aja nantang gini. Di dalamnya ada 3 HP sekaligus. 2 box Tecno Pova 7 yang kemarin udah kita bahas di YouTube dan karakter utama nih. Tecno Pova 7 5G. Katanya sih Next Level Stylish. Dari kotaknya emang udah beda dari pova biasanya. Kerasa lebih simple futuristik. Ada bonus power bank juga yang support wireless charging. Wow, saya suka nih. HPnya nggak cuma menang gaya, tapi fiturnya juga kecipratan rasa canggih. Lanjut di dalam kotaknya yang ada casing magnetic, charger 45W dan kabel type A2 type C. Dalam give box gede ini juga ada kartu magnetic ya, aksesoris biar HPnya kerasa lebih rame. Buat desain polosan Tecno Pova 7 5G-nya sendiri kayak gini ya, temanya pesawat luar angkasa, interstellar spaceship. Diskitar frame kameranya ada beberapa LED strip yang bisa kita custom fungsinya. Kayak timer, terus statusnya cas, status volume dan lain-lain. Gaya bener. Bagian lain yang langsung saya sadarin dari pova 7 5G ini, rasio layarnya lebih panjang dari HP standar. Dia di 20.5x banding 9. Bikin bodinya tuh berasa jadi tinggi langsing ya, genggamnya jadi mantep. Buat speknya sendiri, dia pake Dimensity 7300 5G, RAM 8GB, storage 128GB atau 256GB UFS 2.2. Jadi buat gaming udah enak kayak HP-HP 3 juta lain. Termasuk, game yang grafiknya berat dan rame, kayak Crystal of Atlant. Ini game yang kolep sama pova 7 series ya, kalau mau cobain atau malah udah main, ada kode khusus ini yang bisa diridim buat dapetin bonus, lumayan. Pova 7 5G juga ada game assistant yang punya banyak fitur ya, dari Magic Voice sampai bypass charging. Oh ya, kapasitas baterai nya 6000 mAh ya, support charging kabel sampai 45W dan wireless charging up to 30W. Ticno Pova 7 5G punya layar 6.78 inch, 144Hz Full HD+. Kamera utamanya 108MP yang bagus ya, jepretannya bisa anda lihat sendiri. HP 3 juta makin liar dah, kayak Ticno Pova 7 5G ini. Gak cuma ngasih spek dan fitur yang cakep, tapi udah berani main-main di bagian desain juga. Buat detail harga dan promo nya, bisa langsung cek ke Sosmet atau Tokor Smith Ticno Indonesia.",
         "Joy",
         "Surprise"
        ]
       ],
       "shape": {
        "columns": 4,
        "rows": 5
       }
      },
      "text/html": [
       "<div>\n",
       "<style scoped>\n",
       "    .dataframe tbody tr th:only-of-type {\n",
       "        vertical-align: middle;\n",
       "    }\n",
       "\n",
       "    .dataframe tbody tr th {\n",
       "        vertical-align: top;\n",
       "    }\n",
       "\n",
       "    .dataframe thead th {\n",
       "        text-align: right;\n",
       "    }\n",
       "</style>\n",
       "<table border=\"1\" class=\"dataframe\">\n",
       "  <thead>\n",
       "    <tr style=\"text-align: right;\">\n",
       "      <th></th>\n",
       "      <th>id</th>\n",
       "      <th>text</th>\n",
       "      <th>label</th>\n",
       "      <th>predicted_label</th>\n",
       "    </tr>\n",
       "  </thead>\n",
       "  <tbody>\n",
       "    <tr>\n",
       "      <th>0</th>\n",
       "      <td>1</td>\n",
       "      <td>kali ini ya di sebelah saya sudah ada baik BG4...</td>\n",
       "      <td>Proud</td>\n",
       "      <td>Joy</td>\n",
       "    </tr>\n",
       "    <tr>\n",
       "      <th>1</th>\n",
       "      <td>2</td>\n",
       "      <td>di gias ada Honda Civic ya sudah dimodifikasi ...</td>\n",
       "      <td>Proud</td>\n",
       "      <td>Surprise</td>\n",
       "    </tr>\n",
       "    <tr>\n",
       "      <th>2</th>\n",
       "      <td>3</td>\n",
       "      <td>jadi kita udah nyampe di nama tempatnya itu Gu...</td>\n",
       "      <td>Neutral</td>\n",
       "      <td>Neutral</td>\n",
       "    </tr>\n",
       "    <tr>\n",
       "      <th>3</th>\n",
       "      <td>4</td>\n",
       "      <td>ini ada tempat yang bisa membuka kazana kok ka...</td>\n",
       "      <td>Neutral</td>\n",
       "      <td>Surprise</td>\n",
       "    </tr>\n",
       "    <tr>\n",
       "      <th>4</th>\n",
       "      <td>5</td>\n",
       "      <td>Unboxing give box HP 3 juta yang banyak gaya. ...</td>\n",
       "      <td>Joy</td>\n",
       "      <td>Surprise</td>\n",
       "    </tr>\n",
       "  </tbody>\n",
       "</table>\n",
       "</div>"
      ],
      "text/plain": [
       "   id                                               text    label  \\\n",
       "0   1  kali ini ya di sebelah saya sudah ada baik BG4...    Proud   \n",
       "1   2  di gias ada Honda Civic ya sudah dimodifikasi ...    Proud   \n",
       "2   3  jadi kita udah nyampe di nama tempatnya itu Gu...  Neutral   \n",
       "3   4  ini ada tempat yang bisa membuka kazana kok ka...  Neutral   \n",
       "4   5  Unboxing give box HP 3 juta yang banyak gaya. ...      Joy   \n",
       "\n",
       "  predicted_label  \n",
       "0             Joy  \n",
       "1        Surprise  \n",
       "2         Neutral  \n",
       "3        Surprise  \n",
       "4        Surprise  "
      ]
     },
     "execution_count": 3,
     "metadata": {},
     "output_type": "execute_result"
    }
   ],
   "source": [
    "# Merge berdasarkan id\n",
    "merged = pd.merge(ground_truth, submission, on=\"id\")\n",
    "\n",
    "# Cek data\n",
    "merged[[\"id\", \"text\", \"label\", \"predicted_label\"]].head()"
   ]
  },
  {
   "cell_type": "markdown",
   "id": "e4040af9",
   "metadata": {},
   "source": [
    "## 🔹 4. Classification Report & Macro F1"
   ]
  },
  {
   "cell_type": "code",
   "execution_count": 4,
   "id": "2d077286",
   "metadata": {},
   "outputs": [
    {
     "name": "stdout",
     "output_type": "stream",
     "text": [
      "              precision    recall  f1-score   support\n",
      "\n",
      "       Anger       0.56      0.28      0.37        18\n",
      "        Fear       0.00      0.00      0.00         5\n",
      "         Joy       0.51      0.27      0.35        93\n",
      "     Neutral       0.17      0.31      0.22        42\n",
      "       Proud       0.38      0.19      0.25        27\n",
      "     Sadness       0.00      0.00      0.00         1\n",
      "    Surprise       0.02      0.50      0.04         2\n",
      "       Trust       0.33      0.08      0.13        12\n",
      "\n",
      "    accuracy                           0.25       200\n",
      "   macro avg       0.25      0.20      0.17       200\n",
      "weighted avg       0.39      0.25      0.28       200\n",
      "\n",
      "Macro F1-Score: 0.17062952973950876\n"
     ]
    },
    {
     "name": "stderr",
     "output_type": "stream",
     "text": [
      "c:\\Users\\harry\\anaconda3\\envs\\analisis-data\\lib\\site-packages\\sklearn\\metrics\\_classification.py:1471: UndefinedMetricWarning: Precision and F-score are ill-defined and being set to 0.0 in labels with no predicted samples. Use `zero_division` parameter to control this behavior.\n",
      "  _warn_prf(average, modifier, msg_start, len(result))\n",
      "c:\\Users\\harry\\anaconda3\\envs\\analisis-data\\lib\\site-packages\\sklearn\\metrics\\_classification.py:1471: UndefinedMetricWarning: Precision and F-score are ill-defined and being set to 0.0 in labels with no predicted samples. Use `zero_division` parameter to control this behavior.\n",
      "  _warn_prf(average, modifier, msg_start, len(result))\n",
      "c:\\Users\\harry\\anaconda3\\envs\\analisis-data\\lib\\site-packages\\sklearn\\metrics\\_classification.py:1471: UndefinedMetricWarning: Precision and F-score are ill-defined and being set to 0.0 in labels with no predicted samples. Use `zero_division` parameter to control this behavior.\n",
      "  _warn_prf(average, modifier, msg_start, len(result))\n"
     ]
    }
   ],
   "source": [
    "from sklearn.metrics import classification_report, f1_score\n",
    "\n",
    "# Hitung classification report\n",
    "report = classification_report(\n",
    "    merged[\"label\"], merged[\"predicted_label\"], output_dict=False\n",
    ")\n",
    "print(report)\n",
    "\n",
    "# Hitung Macro-F1\n",
    "f1_macro = f1_score(merged[\"label\"], merged[\"predicted_label\"], average=\"macro\")\n",
    "print(\"Macro F1-Score:\", f1_macro)"
   ]
  },
  {
   "cell_type": "markdown",
   "id": "8975cd2a",
   "metadata": {},
   "source": [
    "## 🔹 5. Confusion Matrix"
   ]
  },
  {
   "cell_type": "code",
   "execution_count": 5,
   "id": "730e8268",
   "metadata": {},
   "outputs": [
    {
     "data": {
      "image/png": "[encoded data removed]",
      "text/plain": [
       "<Figure size 1000x700 with 2 Axes>"
      ]
     },
     "metadata": {},
     "output_type": "display_data"
    }
   ],
   "source": [
    "from sklearn.metrics import confusion_matrix\n",
    "import seaborn as sns\n",
    "\n",
    "labels = list(label_map.values())\n",
    "\n",
    "# Buat confusion matrix\n",
    "cm = confusion_matrix(merged[\"label\"], merged[\"predicted_label\"], labels=labels)\n",
    "\n",
    "plt.figure(figsize=(10,7))\n",
    "sns.heatmap(cm, annot=True, fmt=\"d\", cmap=\"Blues\", xticklabels=labels, yticklabels=labels)\n",
    "plt.xlabel(\"Predicted\")\n",
    "plt.ylabel(\"True\")\n",
    "plt.title(\"Confusion Matrix\")\n",
    "plt.show()"
   ]
  },
  {
   "cell_type": "markdown",
   "id": "4ca4da64",
   "metadata": {},
   "source": [
    "## 🔹 6. Insight Otomatis (Opsional)"
   ]
  },
  {
   "cell_type": "code",
   "execution_count": 6,
   "id": "106b69f1",
   "metadata": {},
   "outputs": [
    {
     "name": "stdout",
     "output_type": "stream",
     "text": [
      "Urutan performa kelas berdasarkan F1-score:\n",
      "Sadness: 0.000\n",
      "Fear: 0.000\n",
      "Surprise: 0.043\n",
      "Trust: 0.133\n",
      "Neutral: 0.217\n",
      "Proud: 0.250\n",
      "Joy: 0.352\n",
      "Anger: 0.370\n"
     ]
    },
    {
     "name": "stderr",
     "output_type": "stream",
     "text": [
      "c:\\Users\\harry\\anaconda3\\envs\\analisis-data\\lib\\site-packages\\sklearn\\metrics\\_classification.py:1471: UndefinedMetricWarning: Precision and F-score are ill-defined and being set to 0.0 in labels with no predicted samples. Use `zero_division` parameter to control this behavior.\n",
      "  _warn_prf(average, modifier, msg_start, len(result))\n",
      "c:\\Users\\harry\\anaconda3\\envs\\analisis-data\\lib\\site-packages\\sklearn\\metrics\\_classification.py:1471: UndefinedMetricWarning: Precision and F-score are ill-defined and being set to 0.0 in labels with no predicted samples. Use `zero_division` parameter to control this behavior.\n",
      "  _warn_prf(average, modifier, msg_start, len(result))\n",
      "c:\\Users\\harry\\anaconda3\\envs\\analisis-data\\lib\\site-packages\\sklearn\\metrics\\_classification.py:1471: UndefinedMetricWarning: Precision and F-score are ill-defined and being set to 0.0 in labels with no predicted samples. Use `zero_division` parameter to control this behavior.\n",
      "  _warn_prf(average, modifier, msg_start, len(result))\n"
     ]
    }
   ],
   "source": [
    "# Kelas dengan F1 terendah\n",
    "from sklearn.metrics import classification_report\n",
    "\n",
    "report_dict = classification_report(\n",
    "    merged[\"label\"], merged[\"predicted_label\"], output_dict=True\n",
    ")\n",
    "\n",
    "sorted_f1 = {cls: report_dict[cls][\"f1-score\"] for cls in labels if cls in report_dict}\n",
    "sorted_f1 = dict(sorted(sorted_f1.items(), key=lambda x: x[1]))\n",
    "\n",
    "print(\"Urutan performa kelas berdasarkan F1-score:\")\n",
    "for cls, score in sorted_f1.items():\n",
    "    print(f\"{cls}: {score:.3f}\")"
   ]
  },
  {
   "cell_type": "code",
   "execution_count": 7,
   "id": "74a18ba3",
   "metadata": {},
   "outputs": [
    {
     "data": {
      "application/vnd.microsoft.datawrangler.viewer.v0+json": {
       "columns": [
        {
         "name": "index",
         "rawType": "int64",
         "type": "integer"
        },
        {
         "name": "id_test",
         "rawType": "int64",
         "type": "integer"
        },
        {
         "name": "video",
         "rawType": "object",
         "type": "string"
        },
        {
         "name": "video_norm",
         "rawType": "object",
         "type": "string"
        },
        {
         "name": "id_train",
         "rawType": "float64",
         "type": "float"
        },
        {
         "name": "emotion_clean",
         "rawType": "object",
         "type": "string"
        }
       ],
       "ref": "446dcd75-83a3-474b-ae2c-5383af0e8dbe",
       "rows": [
        [
         "0",
         "59",
         "https://drive.google.com/file/d/1UI8IJ19DQkZuTaUtLVtAI19jGMIDJuO_/view?usp=sharing",
         "https://drive.google.com/file/d/1ui8ij19dqkzutautlvtai19jgmidjuo_/view",
         "240.0",
         "Surprise"
        ],
        [
         "1",
         "61",
         "https://drive.google.com/file/d/1c_1boySTaI5v-wbdEknkClIcsC7emkyC/view?usp=share_link",
         "https://drive.google.com/file/d/1c_1boystai5v-wbdeknkclicsc7emkyc/view",
         "260.0",
         "Surprise"
        ],
        [
         "2",
         "108",
         "https://drive.google.com/file/d/1PMDBY0C5oekMhFDm2KcR2jLjdgonZ2Bi/view?usp=sharing",
         "https://drive.google.com/file/d/1pmdby0c5oekmhfdm2kcr2jljdgonz2bi/view",
         "438.0",
         "Proud"
        ],
        [
         "3",
         "109",
         "https://drive.google.com/file/d/1ElvqnnKfMLU8pZyKKs_CMxwGts2O770v/view?usp=sharing",
         "https://drive.google.com/file/d/1elvqnnkfmlu8pzykks_cmxwgts2o770v/view",
         "456.0",
         "Surprise"
        ],
        [
         "4",
         "116",
         "https://www.instagram.com/reel/DMh3m5rvW3x/?utm_source=ig_web_copy_link&igsh=MzRlODBiNWFlZA==",
         "https://www.instagram.com/reel/dmh3m5rvw3x",
         "496.0",
         "Surprise"
        ]
       ],
       "shape": {
        "columns": 5,
        "rows": 5
       }
      },
      "text/html": [
       "<div>\n",
       "<style scoped>\n",
       "    .dataframe tbody tr th:only-of-type {\n",
       "        vertical-align: middle;\n",
       "    }\n",
       "\n",
       "    .dataframe tbody tr th {\n",
       "        vertical-align: top;\n",
       "    }\n",
       "\n",
       "    .dataframe thead th {\n",
       "        text-align: right;\n",
       "    }\n",
       "</style>\n",
       "<table border=\"1\" class=\"dataframe\">\n",
       "  <thead>\n",
       "    <tr style=\"text-align: right;\">\n",
       "      <th></th>\n",
       "      <th>id_test</th>\n",
       "      <th>video</th>\n",
       "      <th>video_norm</th>\n",
       "      <th>id_train</th>\n",
       "      <th>emotion_clean</th>\n",
       "    </tr>\n",
       "  </thead>\n",
       "  <tbody>\n",
       "    <tr>\n",
       "      <th>0</th>\n",
       "      <td>59</td>\n",
       "      <td>https://drive.google.com/file/d/1UI8IJ19DQkZuT...</td>\n",
       "      <td>https://drive.google.com/file/d/1ui8ij19dqkzut...</td>\n",
       "      <td>240.0</td>\n",
       "      <td>Surprise</td>\n",
       "    </tr>\n",
       "    <tr>\n",
       "      <th>1</th>\n",
       "      <td>61</td>\n",
       "      <td>https://drive.google.com/file/d/1c_1boySTaI5v-...</td>\n",
       "      <td>https://drive.google.com/file/d/1c_1boystai5v-...</td>\n",
       "      <td>260.0</td>\n",
       "      <td>Surprise</td>\n",
       "    </tr>\n",
       "    <tr>\n",
       "      <th>2</th>\n",
       "      <td>108</td>\n",
       "      <td>https://drive.google.com/file/d/1PMDBY0C5oekMh...</td>\n",
       "      <td>https://drive.google.com/file/d/1pmdby0c5oekmh...</td>\n",
       "      <td>438.0</td>\n",
       "      <td>Proud</td>\n",
       "    </tr>\n",
       "    <tr>\n",
       "      <th>3</th>\n",
       "      <td>109</td>\n",
       "      <td>https://drive.google.com/file/d/1ElvqnnKfMLU8p...</td>\n",
       "      <td>https://drive.google.com/file/d/1elvqnnkfmlu8p...</td>\n",
       "      <td>456.0</td>\n",
       "      <td>Surprise</td>\n",
       "    </tr>\n",
       "    <tr>\n",
       "      <th>4</th>\n",
       "      <td>116</td>\n",
       "      <td>https://www.instagram.com/reel/DMh3m5rvW3x/?ut...</td>\n",
       "      <td>https://www.instagram.com/reel/dmh3m5rvw3x</td>\n",
       "      <td>496.0</td>\n",
       "      <td>Surprise</td>\n",
       "    </tr>\n",
       "  </tbody>\n",
       "</table>\n",
       "</div>"
      ],
      "text/plain": [
       "   id_test                                              video  \\\n",
       "0       59  https://drive.google.com/file/d/1UI8IJ19DQkZuT...   \n",
       "1       61  https://drive.google.com/file/d/1c_1boySTaI5v-...   \n",
       "2      108  https://drive.google.com/file/d/1PMDBY0C5oekMh...   \n",
       "3      109  https://drive.google.com/file/d/1ElvqnnKfMLU8p...   \n",
       "4      116  https://www.instagram.com/reel/DMh3m5rvW3x/?ut...   \n",
       "\n",
       "                                          video_norm  id_train emotion_clean  \n",
       "0  https://drive.google.com/file/d/1ui8ij19dqkzut...     240.0      Surprise  \n",
       "1  https://drive.google.com/file/d/1c_1boystai5v-...     260.0      Surprise  \n",
       "2  https://drive.google.com/file/d/1pmdby0c5oekmh...     438.0         Proud  \n",
       "3  https://drive.google.com/file/d/1elvqnnkfmlu8p...     456.0      Surprise  \n",
       "4         https://www.instagram.com/reel/dmh3m5rvw3x     496.0      Surprise  "
      ]
     },
     "execution_count": 7,
     "metadata": {},
     "output_type": "execute_result"
    }
   ],
   "source": [
    "import pandas as pd\n",
    "\n",
    "# Load data overlap (contoh CSV sesuai yang kamu kasih)\n",
    "overlap = pd.read_csv(\"data/overlap.csv\")\n",
    "\n",
    "overlap.head()\n"
   ]
  },
  {
   "cell_type": "code",
   "execution_count": 8,
   "id": "9655e591",
   "metadata": {},
   "outputs": [
    {
     "name": "stdout",
     "output_type": "stream",
     "text": [
      "Total data overlap: 12\n",
      "\n",
      "Distribusi label overlap:\n",
      "emotion_clean\n",
      "Surprise    7\n",
      "Trust       4\n",
      "Proud       1\n",
      "Name: count, dtype: int64\n"
     ]
    }
   ],
   "source": [
    "# Total jumlah data overlap\n",
    "print(\"Total data overlap:\", len(overlap))\n",
    "\n",
    "# Distribusi berdasarkan label\n",
    "print(\"\\nDistribusi label overlap:\")\n",
    "print(overlap[\"emotion_clean\"].value_counts())\n"
   ]
  },
  {
   "cell_type": "code",
   "execution_count": 9,
   "id": "b37559c0",
   "metadata": {},
   "outputs": [
    {
     "data": {
      "application/vnd.microsoft.datawrangler.viewer.v0+json": {
       "columns": [
        {
         "name": "emotion_clean",
         "rawType": "object",
         "type": "string"
        },
        {
         "name": "total",
         "rawType": "int64",
         "type": "integer"
        },
        {
         "name": "min_id_train",
         "rawType": "float64",
         "type": "float"
        },
        {
         "name": "max_id_train",
         "rawType": "float64",
         "type": "float"
        },
        {
         "name": "id_test_list",
         "rawType": "object",
         "type": "unknown"
        }
       ],
       "ref": "373d50cb-1160-40e5-ad85-54715514ad07",
       "rows": [
        [
         "Proud",
         "1",
         "438.0",
         "438.0",
         "[108]"
        ],
        [
         "Surprise",
         "7",
         "1.0",
         "496.0",
         "[59, 61, 109, 116, 163, 169, 171]"
        ],
        [
         "Trust",
         "4",
         "12.0",
         "504.0",
         "[165, 170, 172, 194]"
        ]
       ],
       "shape": {
        "columns": 4,
        "rows": 3
       }
      },
      "text/html": [
       "<div>\n",
       "<style scoped>\n",
       "    .dataframe tbody tr th:only-of-type {\n",
       "        vertical-align: middle;\n",
       "    }\n",
       "\n",
       "    .dataframe tbody tr th {\n",
       "        vertical-align: top;\n",
       "    }\n",
       "\n",
       "    .dataframe thead th {\n",
       "        text-align: right;\n",
       "    }\n",
       "</style>\n",
       "<table border=\"1\" class=\"dataframe\">\n",
       "  <thead>\n",
       "    <tr style=\"text-align: right;\">\n",
       "      <th></th>\n",
       "      <th>total</th>\n",
       "      <th>min_id_train</th>\n",
       "      <th>max_id_train</th>\n",
       "      <th>id_test_list</th>\n",
       "    </tr>\n",
       "    <tr>\n",
       "      <th>emotion_clean</th>\n",
       "      <th></th>\n",
       "      <th></th>\n",
       "      <th></th>\n",
       "      <th></th>\n",
       "    </tr>\n",
       "  </thead>\n",
       "  <tbody>\n",
       "    <tr>\n",
       "      <th>Proud</th>\n",
       "      <td>1</td>\n",
       "      <td>438.0</td>\n",
       "      <td>438.0</td>\n",
       "      <td>[108]</td>\n",
       "    </tr>\n",
       "    <tr>\n",
       "      <th>Surprise</th>\n",
       "      <td>7</td>\n",
       "      <td>1.0</td>\n",
       "      <td>496.0</td>\n",
       "      <td>[59, 61, 109, 116, 163, 169, 171]</td>\n",
       "    </tr>\n",
       "    <tr>\n",
       "      <th>Trust</th>\n",
       "      <td>4</td>\n",
       "      <td>12.0</td>\n",
       "      <td>504.0</td>\n",
       "      <td>[165, 170, 172, 194]</td>\n",
       "    </tr>\n",
       "  </tbody>\n",
       "</table>\n",
       "</div>"
      ],
      "text/plain": [
       "               total  min_id_train  max_id_train  \\\n",
       "emotion_clean                                      \n",
       "Proud              1         438.0         438.0   \n",
       "Surprise           7           1.0         496.0   \n",
       "Trust              4          12.0         504.0   \n",
       "\n",
       "                                    id_test_list  \n",
       "emotion_clean                                     \n",
       "Proud                                      [108]  \n",
       "Surprise       [59, 61, 109, 116, 163, 169, 171]  \n",
       "Trust                       [165, 170, 172, 194]  "
      ]
     },
     "execution_count": 9,
     "metadata": {},
     "output_type": "execute_result"
    }
   ],
   "source": [
    "# Buat ringkasan perbandingan\n",
    "summary = overlap.groupby(\"emotion_clean\").agg(\n",
    "    total=(\"emotion_clean\", \"count\"),\n",
    "    min_id_train=(\"id_train\", \"min\"),\n",
    "    max_id_train=(\"id_train\", \"max\"),\n",
    "    id_test_list=(\"id_test\", lambda x: list(x))\n",
    ")\n",
    "\n",
    "summary\n"
   ]
  },
  {
   "cell_type": "code",
   "execution_count": null,
   "id": "7b103b30",
   "metadata": {},
   "outputs": [
    {
     "name": "stdout",
     "output_type": "stream",
     "text": [
      "Evaluasi subset overlap:\n",
      "     id emotion_clean  predicted\n",
      "0    59      Surprise          4\n",
      "1    61      Surprise          4\n",
      "2   108         Proud          4\n",
      "3   109      Surprise          4\n",
      "4   116      Surprise          4\n",
      "5   163      Surprise          4\n",
      "6   165         Trust          3\n",
      "7   169      Surprise          7\n",
      "8   170         Trust          2\n",
      "9   171      Surprise          3\n",
      "10  172         Trust          3\n",
      "11  194         Trust          4\n"
     ]
    }
   ],
   "source": [
    "# Load data test + prediksi\n",
    "submission = pd.read_csv(\"data/submission_1.csv\")\n",
    "ground_truth = pd.read_csv(\"data/overlap.csv\")\n",
    "\n",
    "# Merge ground truth + prediksi\n",
    "merged = pd.merge(ground_truth, submission, on=\"id\")\n",
    "\n",
    "# Ambil hanya data overlap\n",
    "overlap_eval = merged[merged[\"id\"].isin(overlap[\"id_test\"])]\n",
    "\n",
    "print(\"Evaluasi subset overlap:\")\n",
    "print(overlap_eval[[\"id\", \"emotion_clean\", \"predicted\"]])\n"
   ]
  }
 ],
 "metadata": {
  "kernelspec": {
   "display_name": "analisis-data",
   "language": "python",
   "name": "python3"
  },
  "language_info": {
   "codemirror_mode": {
    "name": "ipython",
    "version": 3
   },
   "file_extension": ".py",
   "mimetype": "text/x-python",
   "name": "python",
   "nbconvert_exporter": "python",
   "pygments_lexer": "ipython3",
   "version": "3.9.19"
  }
 },
 "nbformat": 4,
 "nbformat_minor": 5
}
