{
 "cells": [
  {
   "cell_type": "markdown",
   "id": "d80f09c6",
   "metadata": {},
   "source": [
    "# **SATRIA DATA 2025**\n",
    "\n",
    "**Team Ihre einzige grenze ist ihr verstand**"
   ]
  },
  {
   "cell_type": "markdown",
   "id": "eb4b83e4",
   "metadata": {},
   "source": [
    "## **Data Understanding**"
   ]
  },
  {
   "cell_type": "markdown",
   "id": "bed71180",
   "metadata": {},
   "source": [
    "### 1. Deskripsi Dataset\n",
    "\n",
    "Dataset yang digunakan berasal dari **kompetisi Satria Data 2025 (Big Data Challenge)**, dengan fokus pada **analisis emosi manusia**.\n",
    "Dataset ini berisi kumpulan data video dan label emosi.\n",
    "\n",
    "* **Sumber data**: panitia kompetisi Satria Data.\n",
    "* **Format**: CSV.\n",
    "* **Jumlah record**: 803.\n",
    "* **Tujuan utama**: membangun model machine learning untuk mengklasifikasikan emosi berdasarkan fitur yang tersedia.\n",
    "\n",
    "### 2. Struktur Data\n",
    "\n",
    "Berdasarkan inspeksi awal, dataset memiliki beberapa kolom penting, di antaranya:\n",
    "\n",
    "* `id` → ID unik untuk setiap data.\n",
    "* `video` → URL video yang menjadi sumber data.\n",
    "* `emotion_clean` → Label emosi (target variabel).\n",
    "* Kolom tambahan (fitur numerik/kategorikal lainnya) yang akan digunakan dalam analisis.\n",
    "\n",
    "### 3. Kualitas Data\n",
    "\n",
    "* **Missing values**: terdapat sejumlah nilai kosong di beberapa kolom yang perlu ditangani.\n",
    "* **Duplikasi**: terdapat kemungkinan duplikasi data pada kolom `video`.\n",
    "* **Konsistensi**: kolom URL video memiliki format yang tidak seragam, sehingga perlu dilakukan normalisasi.\n",
    "\n",
    "### 4. Label Emosi\n",
    "\n",
    "Label target (`emotion_clean`) direpresentasikan dalam bentuk angka 0–7 dengan arti sebagai berikut:\n",
    "\n",
    "| Label | Emosi    |\n",
    "| ----- | -------- |\n",
    "| 0     | Proud    |\n",
    "| 1     | Trust    |\n",
    "| 2     | Joy      |\n",
    "| 3     | Surprise |\n",
    "| 4     | Neutral  |\n",
    "| 5     | Sadness  |\n",
    "| 6     | Fear     |\n",
    "| 7     | Anger    |\n",
    "\n",
    "### 5. Korelasi dan Pola Awal\n",
    "\n",
    "* Fitur numerik tertentu menunjukkan adanya korelasi satu sama lain.\n",
    "* Video yang sama bisa muncul di dataset train dan test, sehingga perlu diperhatikan agar tidak terjadi **data leakage**.\n",
    "* Insight awal: distribusi label yang tidak seimbang bisa memengaruhi performa model baseline.\n",
    "\n",
    "### 6. Kesimpulan Sementara\n",
    "\n",
    "* Dataset memiliki informasi yang cukup untuk membangun model klasifikasi emosi.\n",
    "* Terdapat potensi masalah **missing values, duplikasi, dan imbalance data**.\n",
    "* Tahap berikutnya adalah melakukan **data preparation**: pembersihan, transformasi, dan rekayasa fitur sebelum modeling."
   ]
  },
  {
   "cell_type": "markdown",
   "id": "1d72d0aa",
   "metadata": {},
   "source": [
    "## **Data Preparation**"
   ]
  },
  {
   "cell_type": "markdown",
   "id": "33ff426d",
   "metadata": {},
   "source": [
    "### Exploratory Data Analysis (EDA)"
   ]
  },
  {
   "cell_type": "markdown",
   "id": "3db550f2",
   "metadata": {},
   "source": [
    "#### 1. Load Dataset"
   ]
  },
  {
   "cell_type": "code",
   "execution_count": 1,
   "id": "829785b9",
   "metadata": {},
   "outputs": [
    {
     "name": "stdout",
     "output_type": "stream",
     "text": [
      "🔹 Dataset shape: (803, 3)\n",
      "🔹 Kolom yang tersedia: ['id', 'video', 'emotion']\n",
      "   id                                              video   emotion\n",
      "0   1  https://www.instagram.com/reel/DNKcHgdA-d1/?ig...  Surprise\n",
      "1   2  https://www.instagram.com/reel/DNHwrh2gnBm/?ig...  Surprise\n",
      "2   3  https://www.instagram.com/reel/DM7QsjnRCoa/?ig...  Surprise\n",
      "3   4  https://www.instagram.com/reel/DNBBEt6Paxj/?ig...  Surprise\n",
      "4   5  https://www.instagram.com/reel/DMz13fQzZsN/?ig...     Proud\n"
     ]
    }
   ],
   "source": [
    "import pandas as pd\n",
    "import matplotlib.pyplot as plt\n",
    "import seaborn as sns\n",
    "import warnings\n",
    "warnings.filterwarnings(\"ignore\")\n",
    "\n",
    "df = pd.read_csv(\"data/datatrain.csv\")\n",
    "\n",
    "print(\"🔹 Dataset shape:\", df.shape)\n",
    "print(\"🔹 Kolom yang tersedia:\", df.columns.tolist())\n",
    "print(df.head())"
   ]
  },
  {
   "cell_type": "markdown",
   "id": "94371a4d",
   "metadata": {},
   "source": [
    "#### 2. Cek Missing Values"
   ]
  },
  {
   "cell_type": "code",
   "execution_count": 2,
   "id": "a000429c",
   "metadata": {},
   "outputs": [
    {
     "name": "stdout",
     "output_type": "stream",
     "text": [
      "\n",
      "🔹 Missing Values per Kolom:\n",
      "id         0\n",
      "video      0\n",
      "emotion    0\n",
      "dtype: int64\n"
     ]
    }
   ],
   "source": [
    "print(\"\\n🔹 Missing Values per Kolom:\")\n",
    "print(df.isna().sum())"
   ]
  },
  {
   "cell_type": "markdown",
   "id": "c1e7da7a",
   "metadata": {},
   "source": [
    "#### 3. Cek Duplikasi"
   ]
  },
  {
   "cell_type": "code",
   "execution_count": 3,
   "id": "0c702a5d",
   "metadata": {},
   "outputs": [
    {
     "name": "stdout",
     "output_type": "stream",
     "text": [
      "\n",
      "🔹 Total Baris Duplikat: 0\n",
      "🔹 Duplikat pada Kolom video: 27\n",
      "🔹 Jumlah URL unik: 776\n"
     ]
    }
   ],
   "source": [
    "total_duplicates = df.duplicated().sum()\n",
    "video_duplicates = df['video'].duplicated().sum() if 'video' in df.columns else 0\n",
    "\n",
    "print(f\"\\n🔹 Total Baris Duplikat: {total_duplicates}\")\n",
    "print(f\"🔹 Duplikat pada Kolom video: {video_duplicates}\")\n",
    "print(f\"🔹 Jumlah URL unik: {df['video'].nunique()}\")"
   ]
  },
  {
   "cell_type": "markdown",
   "id": "1469d17d",
   "metadata": {},
   "source": [
    "#### 4. Mapping Canonical Labels"
   ]
  },
  {
   "cell_type": "code",
   "execution_count": 4,
   "id": "5286fd74",
   "metadata": {},
   "outputs": [],
   "source": [
    "CANONICAL = {\n",
    "    'surprise': 'Surprise',\n",
    "    'terkejut': 'Surprise',\n",
    "    'trkejut': 'Surprise',\n",
    "    'kaget': 'Surprise',\n",
    "    'trekejut': 'Surprise',\n",
    "    'terkjut': 'Surprise',\n",
    "\n",
    "    'joy': 'Joy',\n",
    "    'happy': 'Joy',\n",
    "\n",
    "    'trust': 'Trust',\n",
    "    'faith': 'Trust',\n",
    "    'loyalty': 'Trust',\n",
    "    'percaya': 'Trust',\n",
    "    'percaya ': 'Trust',\n",
    "\n",
    "    'proud': 'Proud',\n",
    "    'pride': 'Proud',\n",
    "    'bangga': 'Proud',\n",
    "    'love': 'Proud',\n",
    "\n",
    "    'sadness': 'Sadness',\n",
    "    'sad': 'Sadness',\n",
    "\n",
    "    'anger': 'Anger',\n",
    "    'angry': 'Anger',\n",
    "    'marah': 'Anger',\n",
    "    'marh': 'Anger',\n",
    "\n",
    "    'fear': 'Fear',\n",
    "\n",
    "    'neutral': 'Neutral'\n",
    "}\n",
    "\n",
    "# Normalisasi label\n",
    "df['emotion_clean'] = df['emotion'].str.lower().str.strip().map(CANONICAL)\n",
    "df['emotion_clean'].fillna(df['emotion'], inplace=True)"
   ]
  },
  {
   "cell_type": "markdown",
   "id": "8b0d3b8c",
   "metadata": {},
   "source": [
    "#### 5. Distribusi Label"
   ]
  },
  {
   "cell_type": "code",
   "execution_count": 5,
   "id": "8b10fca3",
   "metadata": {},
   "outputs": [
    {
     "name": "stdout",
     "output_type": "stream",
     "text": [
      "\n",
      "🔹 Distribusi Label Emosi:\n",
      "    Emotion  Count  Percentage\n",
      "0  Surprise    331       41.22\n",
      "1     Trust    184       22.91\n",
      "2     Proud    157       19.55\n",
      "3       Joy     53        6.60\n",
      "4     Anger     36        4.48\n",
      "5   Sadness     18        2.24\n",
      "6      Fear     16        1.99\n",
      "7   Neutral      8        1.00\n"
     ]
    }
   ],
   "source": [
    "label_distribution = (\n",
    "    df['emotion_clean']\n",
    "    .value_counts()\n",
    "    .to_frame()\n",
    "    .reset_index()\n",
    ")\n",
    "label_distribution.columns = ['Emotion', 'Count']\n",
    "label_distribution['Percentage'] = (label_distribution['Count'] / len(df) * 100).round(2)\n",
    "\n",
    "print(\"\\n🔹 Distribusi Label Emosi:\")\n",
    "print(label_distribution)"
   ]
  },
  {
   "cell_type": "markdown",
   "id": "ffd7f3a4",
   "metadata": {},
   "source": [
    "#### 6. Visualisasi Distribusi"
   ]
  },
  {
   "cell_type": "code",
   "execution_count": 6,
   "id": "cb95b244",
   "metadata": {},
   "outputs": [
    {
     "data": {
      "image/png": "[encoded data removed]",
      "text/plain": [
       "<Figure size 1000x600 with 1 Axes>"
      ]
     },
     "metadata": {},
     "output_type": "display_data"
    }
   ],
   "source": [
    "plt.figure(figsize=(10,6))\n",
    "sns.barplot(data=label_distribution, x=\"Emotion\", y=\"Count\", palette=\"Set2\")\n",
    "plt.title(\"Distribusi Label Emosi\")\n",
    "plt.xticks(rotation=45)\n",
    "plt.show()"
   ]
  },
  {
   "cell_type": "markdown",
   "id": "d2219b16",
   "metadata": {},
   "source": [
    "#### 7. Insight Awal"
   ]
  },
  {
   "cell_type": "code",
   "execution_count": 7,
   "id": "33d9386d",
   "metadata": {},
   "outputs": [
    {
     "name": "stdout",
     "output_type": "stream",
     "text": [
      "\n",
      "🔹 Insight Awal:\n",
      "- Dataset memiliki 803 baris data\n",
      "- Jumlah missing values relatif kecil/besar tergantung hasil di atas\n",
      "- Ada 0 baris duplikat\n",
      "- Ada 27 URL video duplikat\n",
      "- Label paling dominan: Surprise dengan 331 sampel ( 41.22 % )\n",
      "- Terdapat indikasi class imbalance, terutama pada kelas minoritas (Neutral, Fear, Sadness)\n"
     ]
    }
   ],
   "source": [
    "print(\"\\n🔹 Insight Awal:\")\n",
    "print(\"- Dataset memiliki\", len(df), \"baris data\")\n",
    "print(\"- Jumlah missing values relatif kecil/besar tergantung hasil di atas\")\n",
    "print(\"- Ada\", total_duplicates, \"baris duplikat\")\n",
    "print(\"- Ada\", video_duplicates, \"URL video duplikat\")\n",
    "print(\"- Label paling dominan:\", label_distribution.iloc[0,0], \n",
    "      \"dengan\", label_distribution.iloc[0,1], \"sampel (\", label_distribution.iloc[0,2], \"% )\")\n",
    "print(\"- Terdapat indikasi class imbalance, terutama pada kelas minoritas (Neutral, Fear, Sadness)\")"
   ]
  }
 ],
 "metadata": {
  "kernelspec": {
   "display_name": "tf2-directml",
   "language": "python",
   "name": "python3"
  },
  "language_info": {
   "codemirror_mode": {
    "name": "ipython",
    "version": 3
   },
   "file_extension": ".py",
   "mimetype": "text/x-python",
   "name": "python",
   "nbconvert_exporter": "python",
   "pygments_lexer": "ipython3",
   "version": "3.9.19"
  }
 },
 "nbformat": 4,
 "nbformat_minor": 5
}
